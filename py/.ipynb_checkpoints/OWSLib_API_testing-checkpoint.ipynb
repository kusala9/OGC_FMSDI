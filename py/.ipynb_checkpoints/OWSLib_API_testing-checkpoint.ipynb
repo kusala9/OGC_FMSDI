{
 "cells": [
  {
   "cell_type": "markdown",
   "metadata": {},
   "source": [
    "## Testing API access to S-122 data through an OGC API."
   ]
  },
  {
   "cell_type": "code",
   "execution_count": 90,
   "metadata": {},
   "outputs": [],
   "source": [
    "# something on OGC API\n",
    "from owslib.ogcapi.features import Features"
   ]
  },
  {
   "cell_type": "markdown",
   "metadata": {},
   "source": [
    "## Access to OGC API via OWS lib interfaces. \n",
    "List out all the collections..."
   ]
  },
  {
   "cell_type": "code",
   "execution_count": 91,
   "metadata": {},
   "outputs": [
    {
     "name": "stdout",
     "output_type": "stream",
     "text": [
      "['S-100Vector', 'S-122WDPA', 'S-122Dev', 'S-122JNCC', 'S-122DNK', 'S-122DEU', 'TEST']\n"
     ]
    }
   ],
   "source": [
    "w = Features('http://18.130.213.16/ogcfmsdi/')\n",
    "feature_collections = w.feature_collections()\n",
    "print(feature_collections)"
   ]
  },
  {
   "cell_type": "code",
   "execution_count": 92,
   "metadata": {},
   "outputs": [],
   "source": [
    "denmark = w.collection_items('S-122DNK')"
   ]
  },
  {
   "cell_type": "markdown",
   "metadata": {},
   "source": [
    "## Complex attributes\n",
    "they're not strings, they're JSON dictionaries, you can filter on these though...."
   ]
  },
  {
   "cell_type": "code",
   "execution_count": 93,
   "metadata": {},
   "outputs": [
    {
     "name": "stdout",
     "output_type": "stream",
     "text": [
      "Nysø, Bøndernes Egehoved\n"
     ]
    }
   ],
   "source": [
    "print(denmark['features'][0]['properties']['featureName']['name'])"
   ]
  },
  {
   "cell_type": "markdown",
   "metadata": {},
   "source": [
    "## How to retrieve features by relationship\n",
    "\n",
    "Each relationship can be included as a distinct link (although we may have to group these by relationship name as there is a multiplicity of relationships between features and information types). so, it is possible to grab features, examine the inter-feature links and retrieve attribution from those links. This example retrieves the associated Authority feature and looks for the categoryOfAuthority it contains."
   ]
  },
  {
   "cell_type": "code",
   "execution_count": 94,
   "metadata": {},
   "outputs": [
    {
     "name": "stdout",
     "output_type": "stream",
     "text": [
      "ID0\n",
      "{'protectedAreaAuthority': 'ID1'}\n",
      "dict_keys(['protectedAreaAuthority'])\n",
      "->ID1\n",
      "environmental\n"
     ]
    }
   ],
   "source": [
    "denmark2 = w.collection_items('TEST')\n",
    "print(denmark2['features'][0]['id'])\n",
    "print(denmark2['features'][0]['links'])\n",
    "print( (denmark2['features'][0]['links']).keys() )\n",
    "relatedlink = denmark2['features'][0]['links']['protectedAreaAuthority']\n",
    "print('->' + relatedlink)\n",
    "d3 = w.collection_item('TEST',str(relatedlink))\n",
    "print(d3['properties']['categoryOfAuthority'])\n"
   ]
  },
  {
   "cell_type": "markdown",
   "metadata": {},
   "source": [
    "## Filtering.\n",
    "This retrieves features according to the IUCN category. Note that the category is not conformant with the S-122 enumeration values (yet). It would be possible to read in a JSON version of the feature catalogue and establish what these are (next step in this notebook)."
   ]
  },
  {
   "cell_type": "code",
   "execution_count": 95,
   "metadata": {},
   "outputs": [
    {
     "name": "stdout",
     "output_type": "stream",
     "text": [
      "26\n",
      "{'name': 'Ulvshale', 'language': 'DAN'}\n",
      "66\n",
      "{'name': 'Insel Vilm', 'language': 'DAN'}\n"
     ]
    }
   ],
   "source": [
    "denmark4 = w.collection_items('S-122DNK', categoryOfMarineProtectedArea='IV')\n",
    "print(denmark4['numberMatched'])\n",
    "print(denmark4['features'][1]['properties']['featureName'])\n",
    "\n",
    "germany4 = w.collection_items('S-122DEU', categoryOfMarineProtectedArea='IV')\n",
    "print(germany4['numberMatched'])\n",
    "print(germany4['features'][1]['properties']['featureName'])"
   ]
  }
 ],
 "metadata": {
  "kernelspec": {
   "display_name": "Python 3",
   "language": "python",
   "name": "python3"
  },
  "language_info": {
   "codemirror_mode": {
    "name": "ipython",
    "version": 3
   },
   "file_extension": ".py",
   "mimetype": "text/x-python",
   "name": "python",
   "nbconvert_exporter": "python",
   "pygments_lexer": "ipython3",
   "version": "3.6.9"
  }
 },
 "nbformat": 4,
 "nbformat_minor": 4
}
